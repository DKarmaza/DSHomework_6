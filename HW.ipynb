{
  "nbformat": 4,
  "nbformat_minor": 0,
  "metadata": {
    "colab": {
      "provenance": []
    },
    "kernelspec": {
      "name": "python3",
      "display_name": "Python 3"
    },
    "language_info": {
      "name": "python"
    }
  },
  "cells": [
    {
      "cell_type": "code",
      "execution_count": 2,
      "metadata": {
        "colab": {
          "base_uri": "https://localhost:8080/"
        },
        "id": "LFJ0dxic_Bvg",
        "outputId": "76e369b2-187a-447a-e2ce-a7dea9d5e9e7"
      },
      "outputs": [
        {
          "output_type": "stream",
          "name": "stdout",
          "text": [
            "Параметри, знайдені градієнтним спуском: [-1.27292228e+37 -7.71802738e+40 -3.83439271e+37 -1.68941878e+37\n",
            " -2.33727601e+37 -1.04568363e+37 -1.14699431e+37 -2.55311821e+36\n",
            " -4.58229255e+36 -5.73563167e+35 -4.57113250e+36 -3.52291786e+36\n",
            " -5.31815867e+36 -3.79989557e+36]\n",
            "Параметри, знайдені аналітично: [ 4.27716938e+04  2.44139386e+02  1.14787560e+05  9.87668107e+05\n",
            "  4.50848003e+05  2.77107101e+05  4.21272589e+05  3.00525860e+05\n",
            "  3.50106904e+05  8.55447145e+05  8.64958311e+05  6.51543800e+05\n",
            " -4.63446200e+04 -4.11234386e+05]\n",
            "Параметри моделі scikit-learn: [ 4.27716939e+04  2.44139386e+02  1.14787560e+05  9.87668107e+05\n",
            "  4.50848003e+05  2.77107101e+05  4.21272589e+05  3.00525860e+05\n",
            "  3.50106904e+05  8.55447145e+05  8.64958311e+05  6.51543800e+05\n",
            " -4.63446200e+04 -4.11234386e+05]\n"
          ]
        }
      ],
      "source": [
        "import numpy as np\n",
        "import pandas as pd\n",
        "from sklearn.linear_model import LinearRegression\n",
        "from sklearn.preprocessing import StandardScaler\n",
        "\n",
        "file_path = \"Housing.csv\"\n",
        "data = pd.read_csv(file_path)\n",
        "data = pd.get_dummies(data, columns=[\"mainroad\", \"guestroom\", \"basement\", \"hotwaterheating\", \"airconditioning\", \"prefarea\", \"furnishingstatus\"], drop_first=True)\n",
        "\n",
        "X_raw = data.drop(\"price\", axis=1).values.astype(float)\n",
        "y = data[\"price\"].values.astype(float)\n",
        "\n",
        "X_raw = np.nan_to_num(X_raw)\n",
        "y = np.nan_to_num(y)\n",
        "\n",
        "scaler = StandardScaler()\n",
        "X_raw_scaled = scaler.fit_transform(X_raw)\n",
        "\n",
        "X = np.hstack([np.ones((X_raw.shape[0], 1)), X_raw])\n",
        "\n",
        "#обчислення передбачень лінійної регресії\n",
        "def hypothesis(X, w):\n",
        "    return np.dot(X, w)\n",
        "\n",
        "#обчислення функції втрат\n",
        "def compute_loss(X, y, w):\n",
        "    y_pred = hypothesis(X, w)\n",
        "    return np.mean((y_pred - y) ** 2)\n",
        "\n",
        "#один крок градієнтного спуску\n",
        "def gradient_step(X, y, w, learning_rate):\n",
        "    y_pred = hypothesis(X, w)\n",
        "    gradient = (2 / X.shape[0]) * np.dot(X.T, (y_pred - y))\n",
        "    w -= learning_rate * gradient\n",
        "    return w\n",
        "\n",
        "#параметри w для датасету\n",
        "def analytical_solution(X, y):\n",
        "    return np.linalg.pinv(X.T @ X) @ X.T @ y\n",
        "\n",
        "w = np.zeros(X.shape[1], dtype=float)\n",
        "learning_rate = 0.0001\n",
        "n_iterations = 10\n",
        "for i in range(n_iterations):\n",
        "    w = gradient_step(X, y, w, learning_rate)\n",
        "print(\"Параметри, знайдені градієнтним спуском:\", w)\n",
        "\n",
        "# 2. Аналітичне рішення\n",
        "w_analytical = analytical_solution(X, y)\n",
        "print(\"Параметри, знайдені аналітично:\", w_analytical)\n",
        "\n",
        "# 3. LinearRegression із scikit-learn\n",
        "model = LinearRegression()\n",
        "model.fit(X_raw, y)\n",
        "print(\"Параметри моделі scikit-learn:\", np.hstack([model.intercept_, model.coef_]))"
      ]
    }
  ]
}